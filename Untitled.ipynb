{
 "cells": [
  {
   "cell_type": "code",
   "execution_count": 1,
   "metadata": {},
   "outputs": [],
   "source": [
    "list1 = [[15,29,6,2],\n",
    "        [16,9,8,0],\n",
    "        [7,27,16,0]]"
   ]
  },
  {
   "cell_type": "code",
   "execution_count": 66,
   "metadata": {},
   "outputs": [],
   "source": [
    "def avgby(tbl, col, by):\n",
    "    dict1={}\n",
    "    for i in range(len(tbl)):\n",
    "        for j in range(len(tbl[i])):\n",
    "            if by==j:\n",
    "                if tbl[i][j] in dict1:\n",
    "                    dict1[tbl[i][j]].append(tbl[i][col])\n",
    "                else:\n",
    "                    dict1[tbl[i][j]]=[tbl[i][col]]\n",
    "                    \n",
    "    for k,v in dict1.items():\n",
    "        dict1[k]=sum(v)/len(v)\n",
    "    \n",
    "    return dict1"
   ]
  },
  {
   "cell_type": "code",
   "execution_count": 67,
   "metadata": {},
   "outputs": [
    {
     "data": {
      "text/plain": [
       "{2: 15.0, 0: 11.5}"
      ]
     },
     "execution_count": 67,
     "metadata": {},
     "output_type": "execute_result"
    }
   ],
   "source": [
    "avgby(list1, 0, 3)"
   ]
  },
  {
   "cell_type": "code",
   "execution_count": 18,
   "metadata": {},
   "outputs": [],
   "source": [
    "def avgby1(tbl, col, by): \n",
    "    dic ={}\n",
    "    for i in tbl:\n",
    "        if i[by] in dic:\n",
    "            dic[i[by]].append(i[col]) \n",
    "        else:\n",
    "            dic.update({i[by]:[i[col]]})     \n",
    "    for k,v in dic.items():\n",
    "        dic[k] = sum(v) / len(v)\n",
    "    return dic"
   ]
  },
  {
   "cell_type": "code",
   "execution_count": 19,
   "metadata": {},
   "outputs": [
    {
     "data": {
      "text/plain": [
       "{2: 15.0, 0: 11.5}"
      ]
     },
     "execution_count": 19,
     "metadata": {},
     "output_type": "execute_result"
    }
   ],
   "source": [
    "avgby1(list1, 0, 3)"
   ]
  },
  {
   "cell_type": "code",
   "execution_count": null,
   "metadata": {},
   "outputs": [],
   "source": []
  },
  {
   "cell_type": "code",
   "execution_count": null,
   "metadata": {},
   "outputs": [],
   "source": []
  }
 ],
 "metadata": {
  "kernelspec": {
   "display_name": "Python 3",
   "language": "python",
   "name": "python3"
  },
  "language_info": {
   "codemirror_mode": {
    "name": "ipython",
    "version": 3
   },
   "file_extension": ".py",
   "mimetype": "text/x-python",
   "name": "python",
   "nbconvert_exporter": "python",
   "pygments_lexer": "ipython3",
   "version": "3.6.5"
  }
 },
 "nbformat": 4,
 "nbformat_minor": 2
}
