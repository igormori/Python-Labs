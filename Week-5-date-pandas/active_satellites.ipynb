{
 "cells": [
  {
   "cell_type": "code",
   "execution_count": 1,
   "metadata": {},
   "outputs": [],
   "source": [
    "import numpy as np\n",
    "import matplotlib.pyplot as plt\n",
    "import pandas as pd\n",
    "%matplotlib inline"
   ]
  },
  {
   "cell_type": "markdown",
   "metadata": {},
   "source": [
    "## Date & time exercises (without loading the data)"
   ]
  },
  {
   "cell_type": "markdown",
   "metadata": {},
   "source": [
    "#### The Apollo 11 mission landed on the moon on  July 20th, 1969\n",
    " * What day of week was it?\n",
    " * How many days elapsed since the landing till now?\n",
    " * Was that a leap year?"
   ]
  },
  {
   "cell_type": "code",
   "execution_count": 2,
   "metadata": {},
   "outputs": [
    {
     "data": {
      "text/plain": [
       "'Friday'"
      ]
     },
     "execution_count": 2,
     "metadata": {},
     "output_type": "execute_result"
    }
   ],
   "source": [
    "#1\n",
    "moonDate = pd.to_datetime('1969/06/20')\n",
    "moonDate.strftime('%A')"
   ]
  },
  {
   "cell_type": "code",
   "execution_count": null,
   "metadata": {},
   "outputs": [],
   "source": [
    "\n"
   ]
  },
  {
   "cell_type": "code",
   "execution_count": null,
   "metadata": {},
   "outputs": [],
   "source": []
  },
  {
   "cell_type": "markdown",
   "metadata": {},
   "source": [
    "## Active Satellites in Orbit Around Earth\n",
    " * The CSV file is on GitHub in the same folder as this notebook\n",
    " * Data Source: https://www.kaggle.com/ucsusa/active-satellites"
   ]
  },
  {
   "cell_type": "code",
   "execution_count": 13,
   "metadata": {},
   "outputs": [
    {
     "data": {
      "text/html": [
       "<div>\n",
       "<style scoped>\n",
       "    .dataframe tbody tr th:only-of-type {\n",
       "        vertical-align: middle;\n",
       "    }\n",
       "\n",
       "    .dataframe tbody tr th {\n",
       "        vertical-align: top;\n",
       "    }\n",
       "\n",
       "    .dataframe thead th {\n",
       "        text-align: right;\n",
       "    }\n",
       "</style>\n",
       "<table border=\"1\" class=\"dataframe\">\n",
       "  <thead>\n",
       "    <tr style=\"text-align: right;\">\n",
       "      <th></th>\n",
       "      <th>Official Name of Satellite</th>\n",
       "      <th>Country/Organization of UN Registry</th>\n",
       "      <th>Operator/Owner</th>\n",
       "      <th>Country of Operator/Owner</th>\n",
       "      <th>Users</th>\n",
       "      <th>Purpose</th>\n",
       "      <th>Detailed Purpose</th>\n",
       "      <th>Class of Orbit</th>\n",
       "      <th>Type of Orbit</th>\n",
       "      <th>Longitude of Geosynchronous Orbit (Degrees)</th>\n",
       "      <th>...</th>\n",
       "      <th>Dry Mass (Kilograms)</th>\n",
       "      <th>Power (Watts)</th>\n",
       "      <th>Date of Launch</th>\n",
       "      <th>Expected Lifetime (Years)</th>\n",
       "      <th>Contractor</th>\n",
       "      <th>Country of Contractor</th>\n",
       "      <th>Launch Site</th>\n",
       "      <th>Launch Vehicle</th>\n",
       "      <th>COSPAR Number</th>\n",
       "      <th>NORAD Number</th>\n",
       "    </tr>\n",
       "  </thead>\n",
       "  <tbody>\n",
       "    <tr>\n",
       "      <th>0</th>\n",
       "      <td>AAUSat-4</td>\n",
       "      <td>NR</td>\n",
       "      <td>University of Aalborg</td>\n",
       "      <td>Denmark</td>\n",
       "      <td>Civil</td>\n",
       "      <td>Earth Observation</td>\n",
       "      <td>Automatic Identification System (AIS)</td>\n",
       "      <td>LEO</td>\n",
       "      <td>Sun-Synchronous</td>\n",
       "      <td>0.00</td>\n",
       "      <td>...</td>\n",
       "      <td>NaN</td>\n",
       "      <td>NaN</td>\n",
       "      <td>4/25/2016</td>\n",
       "      <td>NaN</td>\n",
       "      <td>University of Aalborg</td>\n",
       "      <td>Denmark</td>\n",
       "      <td>Guiana Space Center</td>\n",
       "      <td>Soyuz 2.1a</td>\n",
       "      <td>2016-025E</td>\n",
       "      <td>41460.0</td>\n",
       "    </tr>\n",
       "    <tr>\n",
       "      <th>1</th>\n",
       "      <td>ABS-2</td>\n",
       "      <td>NR</td>\n",
       "      <td>Asia Broadcast Satellite Ltd.</td>\n",
       "      <td>Multinational</td>\n",
       "      <td>Commercial</td>\n",
       "      <td>Communications</td>\n",
       "      <td>NaN</td>\n",
       "      <td>GEO</td>\n",
       "      <td>NaN</td>\n",
       "      <td>75.00</td>\n",
       "      <td>...</td>\n",
       "      <td>NaN</td>\n",
       "      <td>16000</td>\n",
       "      <td>2/6/2014</td>\n",
       "      <td>15</td>\n",
       "      <td>Space Systems/Loral</td>\n",
       "      <td>USA</td>\n",
       "      <td>Guiana Space Center</td>\n",
       "      <td>Ariane  5 ECA</td>\n",
       "      <td>2014-006A</td>\n",
       "      <td>39508.0</td>\n",
       "    </tr>\n",
       "    <tr>\n",
       "      <th>2</th>\n",
       "      <td>ABS-2A</td>\n",
       "      <td>NR</td>\n",
       "      <td>Asia Broadcast Satellite Ltd.</td>\n",
       "      <td>Multinational</td>\n",
       "      <td>Commercial</td>\n",
       "      <td>Communications</td>\n",
       "      <td>NaN</td>\n",
       "      <td>GEO</td>\n",
       "      <td>NaN</td>\n",
       "      <td>-75.00</td>\n",
       "      <td>...</td>\n",
       "      <td>NaN</td>\n",
       "      <td>NaN</td>\n",
       "      <td>6/15/2016</td>\n",
       "      <td>15</td>\n",
       "      <td>Boeing Satellite Systems</td>\n",
       "      <td>USA</td>\n",
       "      <td>Cape Canaveral</td>\n",
       "      <td>Falcon 9</td>\n",
       "      <td>2016-038A</td>\n",
       "      <td>41588.0</td>\n",
       "    </tr>\n",
       "    <tr>\n",
       "      <th>3</th>\n",
       "      <td>ABS-3</td>\n",
       "      <td>Philippines</td>\n",
       "      <td>Asia Broadcast Satellite Ltd.</td>\n",
       "      <td>Multinational</td>\n",
       "      <td>Commercial</td>\n",
       "      <td>Communications</td>\n",
       "      <td>NaN</td>\n",
       "      <td>GEO</td>\n",
       "      <td>NaN</td>\n",
       "      <td>146.06</td>\n",
       "      <td>...</td>\n",
       "      <td>1800</td>\n",
       "      <td>9000</td>\n",
       "      <td>8/19/1997</td>\n",
       "      <td>15</td>\n",
       "      <td>Space Systems/Loral</td>\n",
       "      <td>USA</td>\n",
       "      <td>Xichang Satellite Launch Center</td>\n",
       "      <td>Long March CZ3B</td>\n",
       "      <td>1997-042A</td>\n",
       "      <td>24901.0</td>\n",
       "    </tr>\n",
       "    <tr>\n",
       "      <th>4</th>\n",
       "      <td>ABS-3A</td>\n",
       "      <td>NR</td>\n",
       "      <td>Asia Broadcast Satellite Ltd.</td>\n",
       "      <td>Multinational</td>\n",
       "      <td>Commercial</td>\n",
       "      <td>Communications</td>\n",
       "      <td>NaN</td>\n",
       "      <td>GEO</td>\n",
       "      <td>NaN</td>\n",
       "      <td>-3.00</td>\n",
       "      <td>...</td>\n",
       "      <td>NaN</td>\n",
       "      <td>NaN</td>\n",
       "      <td>3/2/2015</td>\n",
       "      <td>15</td>\n",
       "      <td>Boeing Satellite Systems</td>\n",
       "      <td>USA</td>\n",
       "      <td>Cape Canaveral</td>\n",
       "      <td>Falcon 9</td>\n",
       "      <td>2015-010A</td>\n",
       "      <td>40424.0</td>\n",
       "    </tr>\n",
       "  </tbody>\n",
       "</table>\n",
       "<p>5 rows × 26 columns</p>\n",
       "</div>"
      ],
      "text/plain": [
       "  Official Name of Satellite Country/Organization of UN Registry  \\\n",
       "0                   AAUSat-4                                  NR   \n",
       "1                      ABS-2                                  NR   \n",
       "2                     ABS-2A                                  NR   \n",
       "3                      ABS-3                         Philippines   \n",
       "4                     ABS-3A                                  NR   \n",
       "\n",
       "                  Operator/Owner Country of Operator/Owner       Users  \\\n",
       "0          University of Aalborg                   Denmark       Civil   \n",
       "1  Asia Broadcast Satellite Ltd.             Multinational  Commercial   \n",
       "2  Asia Broadcast Satellite Ltd.             Multinational  Commercial   \n",
       "3  Asia Broadcast Satellite Ltd.             Multinational  Commercial   \n",
       "4  Asia Broadcast Satellite Ltd.             Multinational  Commercial   \n",
       "\n",
       "             Purpose                       Detailed Purpose Class of Orbit  \\\n",
       "0  Earth Observation  Automatic Identification System (AIS)            LEO   \n",
       "1     Communications                                    NaN            GEO   \n",
       "2     Communications                                    NaN            GEO   \n",
       "3     Communications                                    NaN            GEO   \n",
       "4     Communications                                    NaN            GEO   \n",
       "\n",
       "     Type of Orbit  Longitude of Geosynchronous Orbit (Degrees)     ...       \\\n",
       "0  Sun-Synchronous                                         0.00     ...        \n",
       "1              NaN                                        75.00     ...        \n",
       "2              NaN                                       -75.00     ...        \n",
       "3              NaN                                       146.06     ...        \n",
       "4              NaN                                        -3.00     ...        \n",
       "\n",
       "   Dry Mass (Kilograms)  Power (Watts)  Date of Launch  \\\n",
       "0                   NaN            NaN       4/25/2016   \n",
       "1                   NaN          16000        2/6/2014   \n",
       "2                   NaN            NaN       6/15/2016   \n",
       "3                  1800           9000       8/19/1997   \n",
       "4                   NaN            NaN        3/2/2015   \n",
       "\n",
       "   Expected Lifetime (Years)                Contractor Country of Contractor  \\\n",
       "0                        NaN     University of Aalborg               Denmark   \n",
       "1                         15       Space Systems/Loral                   USA   \n",
       "2                         15  Boeing Satellite Systems                   USA   \n",
       "3                         15       Space Systems/Loral                   USA   \n",
       "4                         15  Boeing Satellite Systems                   USA   \n",
       "\n",
       "                       Launch Site   Launch Vehicle COSPAR Number NORAD Number  \n",
       "0              Guiana Space Center       Soyuz 2.1a     2016-025E      41460.0  \n",
       "1              Guiana Space Center    Ariane  5 ECA     2014-006A      39508.0  \n",
       "2                   Cape Canaveral         Falcon 9     2016-038A      41588.0  \n",
       "3  Xichang Satellite Launch Center  Long March CZ3B     1997-042A      24901.0  \n",
       "4                   Cape Canaveral         Falcon 9     2015-010A      40424.0  \n",
       "\n",
       "[5 rows x 26 columns]"
      ]
     },
     "execution_count": 13,
     "metadata": {},
     "output_type": "execute_result"
    }
   ],
   "source": [
    "df = pd.read_csv('../ML1/exercises/active_satellites.csv')\n",
    "df.head()"
   ]
  },
  {
   "cell_type": "code",
   "execution_count": 14,
   "metadata": {},
   "outputs": [
    {
     "data": {
      "text/html": [
       "<div>\n",
       "<style scoped>\n",
       "    .dataframe tbody tr th:only-of-type {\n",
       "        vertical-align: middle;\n",
       "    }\n",
       "\n",
       "    .dataframe tbody tr th {\n",
       "        vertical-align: top;\n",
       "    }\n",
       "\n",
       "    .dataframe thead th {\n",
       "        text-align: right;\n",
       "    }\n",
       "</style>\n",
       "<table border=\"1\" class=\"dataframe\">\n",
       "  <thead>\n",
       "    <tr style=\"text-align: right;\">\n",
       "      <th></th>\n",
       "      <th>657</th>\n",
       "    </tr>\n",
       "  </thead>\n",
       "  <tbody>\n",
       "    <tr>\n",
       "      <th>Official Name of Satellite</th>\n",
       "      <td>International Space Station</td>\n",
       "    </tr>\n",
       "    <tr>\n",
       "      <th>Country/Organization of UN Registry</th>\n",
       "      <td>USA</td>\n",
       "    </tr>\n",
       "    <tr>\n",
       "      <th>Operator/Owner</th>\n",
       "      <td>NASA/Multinational</td>\n",
       "    </tr>\n",
       "    <tr>\n",
       "      <th>Country of Operator/Owner</th>\n",
       "      <td>Multinational</td>\n",
       "    </tr>\n",
       "    <tr>\n",
       "      <th>Users</th>\n",
       "      <td>Government</td>\n",
       "    </tr>\n",
       "    <tr>\n",
       "      <th>Purpose</th>\n",
       "      <td>Space Science</td>\n",
       "    </tr>\n",
       "    <tr>\n",
       "      <th>Detailed Purpose</th>\n",
       "      <td>NaN</td>\n",
       "    </tr>\n",
       "    <tr>\n",
       "      <th>Class of Orbit</th>\n",
       "      <td>LEO</td>\n",
       "    </tr>\n",
       "    <tr>\n",
       "      <th>Type of Orbit</th>\n",
       "      <td>Non-Polar Inclined</td>\n",
       "    </tr>\n",
       "    <tr>\n",
       "      <th>Longitude of Geosynchronous Orbit (Degrees)</th>\n",
       "      <td>0</td>\n",
       "    </tr>\n",
       "    <tr>\n",
       "      <th>Perigee (Kilometers)</th>\n",
       "      <td>401</td>\n",
       "    </tr>\n",
       "    <tr>\n",
       "      <th>Apogee (Kilometers)</th>\n",
       "      <td>422</td>\n",
       "    </tr>\n",
       "    <tr>\n",
       "      <th>Eccentricity</th>\n",
       "      <td>0.00155</td>\n",
       "    </tr>\n",
       "    <tr>\n",
       "      <th>Inclination (Degrees)</th>\n",
       "      <td>51.6</td>\n",
       "    </tr>\n",
       "    <tr>\n",
       "      <th>Period (Minutes)</th>\n",
       "      <td>92.8</td>\n",
       "    </tr>\n",
       "    <tr>\n",
       "      <th>Launch Mass (Kilograms)</th>\n",
       "      <td>NaN</td>\n",
       "    </tr>\n",
       "    <tr>\n",
       "      <th>Dry Mass (Kilograms)</th>\n",
       "      <td>NaN</td>\n",
       "    </tr>\n",
       "    <tr>\n",
       "      <th>Power (Watts)</th>\n",
       "      <td>NaN</td>\n",
       "    </tr>\n",
       "    <tr>\n",
       "      <th>Date of Launch</th>\n",
       "      <td>11/20/1998</td>\n",
       "    </tr>\n",
       "    <tr>\n",
       "      <th>Expected Lifetime (Years)</th>\n",
       "      <td>30</td>\n",
       "    </tr>\n",
       "    <tr>\n",
       "      <th>Contractor</th>\n",
       "      <td>Boeing Satellite Systems (prime)/Multinational</td>\n",
       "    </tr>\n",
       "    <tr>\n",
       "      <th>Country of Contractor</th>\n",
       "      <td>Multinational</td>\n",
       "    </tr>\n",
       "    <tr>\n",
       "      <th>Launch Site</th>\n",
       "      <td>Baikonur Cosmodrome</td>\n",
       "    </tr>\n",
       "    <tr>\n",
       "      <th>Launch Vehicle</th>\n",
       "      <td>Proton</td>\n",
       "    </tr>\n",
       "    <tr>\n",
       "      <th>COSPAR Number</th>\n",
       "      <td>1998-067A</td>\n",
       "    </tr>\n",
       "    <tr>\n",
       "      <th>NORAD Number</th>\n",
       "      <td>25544</td>\n",
       "    </tr>\n",
       "  </tbody>\n",
       "</table>\n",
       "</div>"
      ],
      "text/plain": [
       "                                                                                        657\n",
       "Official Name of Satellite                                      International Space Station\n",
       "Country/Organization of UN Registry                                                     USA\n",
       "Operator/Owner                                                           NASA/Multinational\n",
       "Country of Operator/Owner                                                     Multinational\n",
       "Users                                                                            Government\n",
       "Purpose                                                                       Space Science\n",
       "Detailed Purpose                                                                        NaN\n",
       "Class of Orbit                                                                          LEO\n",
       "Type of Orbit                                                            Non-Polar Inclined\n",
       "Longitude of Geosynchronous Orbit (Degrees)                                               0\n",
       "Perigee (Kilometers)                                                                    401\n",
       "Apogee (Kilometers)                                                                     422\n",
       "Eccentricity                                                                        0.00155\n",
       "Inclination (Degrees)                                                                  51.6\n",
       "Period (Minutes)                                                                       92.8\n",
       "Launch Mass (Kilograms)                                                                 NaN\n",
       "Dry Mass (Kilograms)                                                                    NaN\n",
       "Power (Watts)                                                                           NaN\n",
       "Date of Launch                                                                   11/20/1998\n",
       "Expected Lifetime (Years)                                                                30\n",
       "Contractor                                   Boeing Satellite Systems (prime)/Multinational\n",
       "Country of Contractor                                                         Multinational\n",
       "Launch Site                                                             Baikonur Cosmodrome\n",
       "Launch Vehicle                                                                       Proton\n",
       "COSPAR Number                                                                     1998-067A\n",
       "NORAD Number                                                                          25544"
      ]
     },
     "execution_count": 14,
     "metadata": {},
     "output_type": "execute_result"
    }
   ],
   "source": [
    "# Here is the International Space Station (ISS) in this list\n",
    "df[df['Official Name of Satellite'].str.contains('tation')].T"
   ]
  },
  {
   "cell_type": "markdown",
   "metadata": {},
   "source": [
    "#### The olny column with dates is 'Date of Launch'. By default it is loaded as string. Convert the column (or create a new one) so that it contains parsed dates. Let's call it \"launched\". (feel free to rename other columns as needed for convenience)"
   ]
  },
  {
   "cell_type": "code",
   "execution_count": 33,
   "metadata": {},
   "outputs": [],
   "source": [
    "df['launched'] = pd.to_datetime(df['Date of Launch'])"
   ]
  },
  {
   "cell_type": "markdown",
   "metadata": {},
   "source": [
    "#### Remember that we can access the date/time specific functions of Timestamp columns using \"dt\""
   ]
  },
  {
   "cell_type": "code",
   "execution_count": 32,
   "metadata": {},
   "outputs": [
    {
     "data": {
      "text/plain": [
       "0    2016.0\n",
       "1    2014.0\n",
       "2    2016.0\n",
       "3    1997.0\n",
       "4    2015.0\n",
       "Name: launched, dtype: float64"
      ]
     },
     "execution_count": 32,
     "metadata": {},
     "output_type": "execute_result"
    }
   ],
   "source": [
    "# For example to get the year use\n",
    "df['launched'].dt.year.head()"
   ]
  },
  {
   "cell_type": "markdown",
   "metadata": {},
   "source": [
    "#### dt.year returns an integer but the output from the cell above contains the years in a Series object with float data type. Why is it float and not integer?\""
   ]
  },
  {
   "cell_type": "code",
   "execution_count": 17,
   "metadata": {},
   "outputs": [],
   "source": [
    "# because there is some null values on the date\n"
   ]
  },
  {
   "cell_type": "code",
   "execution_count": null,
   "metadata": {},
   "outputs": [],
   "source": []
  },
  {
   "cell_type": "markdown",
   "metadata": {},
   "source": [
    "#### Are there any rows with missing launch date? How is this missing data represented in the converted Timestamp column?\n"
   ]
  },
  {
   "cell_type": "code",
   "execution_count": 18,
   "metadata": {},
   "outputs": [
    {
     "data": {
      "text/plain": [
       "796    NaT\n",
       "1187   NaT\n",
       "1188   NaT\n",
       "1240   NaT\n",
       "Name: Date of Launch, dtype: datetime64[ns]"
      ]
     },
     "execution_count": 18,
     "metadata": {},
     "output_type": "execute_result"
    }
   ],
   "source": [
    "nulls = df[pd.isnull(df['Date of Launch'])]    # here i identified all NAN for day of Launch\n",
    "nulls2 =pd.to_datetime(nulls['Date of Launch'])# here i conveting to datetime\n",
    "nulls2"
   ]
  },
  {
   "cell_type": "markdown",
   "metadata": {},
   "source": [
    "\n",
    "#### Drop the rows with missing data for convenience in following tasks. Recompute the 'launched' column and observe that it's now integer"
   ]
  },
  {
   "cell_type": "code",
   "execution_count": 19,
   "metadata": {},
   "outputs": [
    {
     "data": {
      "text/plain": [
       "0    2016\n",
       "1    2014\n",
       "2    2016\n",
       "3    1997\n",
       "4    2015\n",
       "Name: launched, dtype: int64"
      ]
     },
     "execution_count": 19,
     "metadata": {},
     "output_type": "execute_result"
    }
   ],
   "source": [
    "notNull = df[pd.notnull(df['launched'])] # here i only selecting the data with not null values\n",
    "notNull['launched'].dt.year.head()       # now as we can see it will show all as a integer because now there is no null values\n"
   ]
  },
  {
   "cell_type": "markdown",
   "metadata": {},
   "source": [
    "#### Plot a histogram of the launch date"
   ]
  },
  {
   "cell_type": "code",
   "execution_count": 20,
   "metadata": {},
   "outputs": [
    {
     "data": {
      "text/plain": [
       "<matplotlib.axes._subplots.AxesSubplot at 0x216880a7c50>"
      ]
     },
     "execution_count": 20,
     "metadata": {},
     "output_type": "execute_result"
    },
    {
     "data": {
      "image/png": "[encoded data removed]",
      "text/plain": [
       "<Figure size 432x288 with 1 Axes>"
      ]
     },
     "metadata": {},
     "output_type": "display_data"
    }
   ],
   "source": [
    "notNull['launched'].hist()  # here i could make a histo because there is no null values"
   ]
  },
  {
   "cell_type": "markdown",
   "metadata": {},
   "source": [
    "\n",
    "#### The histogram above is nice, but it places bin boundaries in some weird places. Let's compute the number of launches each year and then plot it (as either a bar or scatter plot - try both)\n",
    " * Hints: use either value_counts() or groupby() to calculate the counts, see the example below:"
   ]
  },
  {
   "cell_type": "code",
   "execution_count": 92,
   "metadata": {
    "scrolled": true
   },
   "outputs": [
    {
     "data": {
      "text/plain": [
       "<matplotlib.axes._subplots.AxesSubplot at 0x2168c5a9470>"
      ]
     },
     "execution_count": 92,
     "metadata": {},
     "output_type": "execute_result"
    },
    {
     "data": {
      "image/png": "[encoded data removed]",
      "text/plain": [
       "<Figure size 432x288 with 1 Axes>"
      ]
     },
     "metadata": {},
     "output_type": "display_data"
    }
   ],
   "source": [
    "launcher = df.groupby('launched')['Date of Launch'].value_counts()\n",
    "launcher[launcher >10].plot(kind='bar')\n"
   ]
  },
  {
   "cell_type": "markdown",
   "metadata": {},
   "source": [
    "## Example of using value_counts() + bar plot"
   ]
  },
  {
   "cell_type": "code",
   "execution_count": 9,
   "metadata": {},
   "outputs": [
    {
     "data": {
      "text/plain": [
       "USA              561\n",
       "China            180\n",
       "Russia           136\n",
       "Multinational     67\n",
       "Japan             57\n",
       "Name: Country of Operator/Owner, dtype: int64"
      ]
     },
     "execution_count": 9,
     "metadata": {},
     "output_type": "execute_result"
    }
   ],
   "source": [
    "country_count = df['Country of Operator/Owner'].value_counts()\n",
    "country_count.head()"
   ]
  },
  {
   "cell_type": "code",
   "execution_count": 14,
   "metadata": {},
   "outputs": [
    {
     "data": {
      "text/plain": [
       "<matplotlib.axes._subplots.AxesSubplot at 0x14eed6923c8>"
      ]
     },
     "execution_count": 14,
     "metadata": {},
     "output_type": "execute_result"
    },
    {
     "data": {
      "image/png": "[encoded data removed]",
      "text/plain": [
       "<Figure size 432x288 with 1 Axes>"
      ]
     },
     "metadata": {},
     "output_type": "display_data"
    }
   ],
   "source": [
    "country_count[country_count>10].plot(kind='bar')"
   ]
  },
  {
   "cell_type": "markdown",
   "metadata": {},
   "source": [
    "#### Plot a similar chart for launch vehicle"
   ]
  },
  {
   "cell_type": "code",
   "execution_count": 104,
   "metadata": {},
   "outputs": [
    {
     "data": {
      "text/plain": [
       "<matplotlib.axes._subplots.AxesSubplot at 0x2168da5a940>"
      ]
     },
     "execution_count": 104,
     "metadata": {},
     "output_type": "execute_result"
    },
    {
     "data": {
      "image/png": "[encoded data removed]",
      "text/plain": [
       "<Figure size 432x288 with 1 Axes>"
      ]
     },
     "metadata": {},
     "output_type": "display_data"
    }
   ],
   "source": [
    "vehicle =df['Launch Vehicle'].value_counts()\n",
    "vehicle[vehicle >10].plot(kind='bar')"
   ]
  },
  {
   "cell_type": "markdown",
   "metadata": {},
   "source": [
    "#### Now plot the same counts as pie chart (kind='pie'). Group all the small groups (e.g. below 10 satellites) into a single \"Other\" category"
   ]
  },
  {
   "cell_type": "code",
   "execution_count": 22,
   "metadata": {},
   "outputs": [],
   "source": [
    "lv_count = df[df.launched.dt.year>2010]['Launch Vehicle'].value_counts()"
   ]
  },
  {
   "cell_type": "markdown",
   "metadata": {},
   "source": [
    "#### Note that there are many versions of the same rocket, like Ariane 5 and Ariane 5 ECA - each creating a separate slice on the pie chart. This is why we have so many slices. Do the counts by Launch vehicle family, where family can be defined by the first word of the vehicle name. (remember the .str accessor for string functions) "
   ]
  },
  {
   "cell_type": "code",
   "execution_count": null,
   "metadata": {},
   "outputs": [],
   "source": []
  },
  {
   "cell_type": "markdown",
   "metadata": {},
   "source": [
    "#### Make a bar plot for launch counts per day of week (day 0 is Monday). Make sure the labels on x axis are reasonably sorted. Looks like Wednesday and Thursday are far more popular days to launch a satellite."
   ]
  },
  {
   "cell_type": "code",
   "execution_count": null,
   "metadata": {},
   "outputs": [],
   "source": []
  },
  {
   "cell_type": "markdown",
   "metadata": {},
   "source": [
    "#### Let's look for seasonal variations. take a look at t.dayofyear. Make a histogram of the day of year (of the launch). Anything you can hypothesize about how the aerospace industry sets the deadlines?"
   ]
  },
  {
   "cell_type": "code",
   "execution_count": null,
   "metadata": {},
   "outputs": [],
   "source": []
  },
  {
   "cell_type": "markdown",
   "metadata": {},
   "source": [
    "## SpaceX market share"
   ]
  },
  {
   "cell_type": "markdown",
   "metadata": {},
   "source": [
    "#### Find how many satellites per year were launched by SpaceX (Their rocket names all start with \"Falcon\")"
   ]
  },
  {
   "cell_type": "code",
   "execution_count": null,
   "metadata": {},
   "outputs": [],
   "source": []
  },
  {
   "cell_type": "markdown",
   "metadata": {},
   "source": [
    "#### What percentage of total number of launches this represents (again, per year)"
   ]
  },
  {
   "cell_type": "code",
   "execution_count": null,
   "metadata": {},
   "outputs": [],
   "source": []
  },
  {
   "cell_type": "markdown",
   "metadata": {},
   "source": [
    "#### For 2015 compare this information to what you can find on the web. (Note that a single rocket often launches multiple satellites.)"
   ]
  },
  {
   "cell_type": "code",
   "execution_count": null,
   "metadata": {},
   "outputs": [],
   "source": []
  },
  {
   "cell_type": "markdown",
   "metadata": {},
   "source": [
    "## What are satellites used for"
   ]
  },
  {
   "cell_type": "markdown",
   "metadata": {},
   "source": [
    "#### What percentage of all satellites have commercial use?\n",
    " * Note that the Users columns has dual use values like Government/Commercial"
   ]
  },
  {
   "cell_type": "code",
   "execution_count": null,
   "metadata": {},
   "outputs": [],
   "source": []
  },
  {
   "cell_type": "markdown",
   "metadata": {},
   "source": [
    "#### What percentage have more than one use? (e.g. Government/Commercial or Commercial/Gov/Mil etc.)"
   ]
  },
  {
   "cell_type": "code",
   "execution_count": null,
   "metadata": {},
   "outputs": [],
   "source": []
  },
  {
   "cell_type": "markdown",
   "metadata": {},
   "source": [
    "## Orbits"
   ]
  },
  {
   "cell_type": "markdown",
   "metadata": {},
   "source": [
    "#### Count how many satellites thre are per each Class of orbit. Note that 'LEO' appears twice, the scond time for a single row. Find out why and fix it.\n",
    " * LEO stands for Low Earth Orbit - this is where the ISS is\n",
    " * GEO is the Geostationary orbit - TV satellites"
   ]
  },
  {
   "cell_type": "code",
   "execution_count": null,
   "metadata": {},
   "outputs": [],
   "source": []
  },
  {
   "cell_type": "markdown",
   "metadata": {
    "slideshow": {
     "slide_type": "fragment"
    }
   },
   "source": [
    "#### How low the Low Earth Orbit is? Find the median of the apogee for satellites on LEO. Apogee is the highest point of the orbit (perigee is the lowest)."
   ]
  },
  {
   "cell_type": "code",
   "execution_count": null,
   "metadata": {},
   "outputs": [],
   "source": []
  },
  {
   "cell_type": "markdown",
   "metadata": {},
   "source": [
    "#### Plot a histogram of the apogee for all satellites on LEO "
   ]
  },
  {
   "cell_type": "code",
   "execution_count": null,
   "metadata": {},
   "outputs": [],
   "source": []
  },
  {
   "cell_type": "markdown",
   "metadata": {},
   "source": [
    "#### The histogram looks wrong, there is only one bar and the X axis goes all the way to above 300,000 km. Orbits above about 2000 km are not usually called LEO. What's the problem? How can we fix it?"
   ]
  },
  {
   "cell_type": "code",
   "execution_count": null,
   "metadata": {},
   "outputs": [],
   "source": []
  },
  {
   "cell_type": "code",
   "execution_count": null,
   "metadata": {},
   "outputs": [],
   "source": []
  },
  {
   "cell_type": "markdown",
   "metadata": {},
   "source": [
    "#### Plot a histogram of the apogee for all satelites with apogee below 60,000 km. The two large peaks you see are the LEO and GEO orbits \n",
    " * Take a look at [this visualization of the different orbits on Wikipedia](https://upload.wikimedia.org/wikipedia/commons/b/b4/Comparison_satellite_navigation_orbits.svg)"
   ]
  },
  {
   "cell_type": "code",
   "execution_count": null,
   "metadata": {},
   "outputs": [],
   "source": []
  },
  {
   "cell_type": "markdown",
   "metadata": {},
   "source": [
    "#### If you are done with all tasks here before the end of the lab, go over the example with Seattle bike count in the book (section 3.11). It shows how to work with a datetime based index "
   ]
  }
 ],
 "metadata": {
  "kernelspec": {
   "display_name": "Python 3",
   "language": "python",
   "name": "python3"
  },
  "language_info": {
   "codemirror_mode": {
    "name": "ipython",
    "version": 3
   },
   "file_extension": ".py",
   "mimetype": "text/x-python",
   "name": "python",
   "nbconvert_exporter": "python",
   "pygments_lexer": "ipython3",
   "version": "3.6.5"
  }
 },
 "nbformat": 4,
 "nbformat_minor": 2
}
