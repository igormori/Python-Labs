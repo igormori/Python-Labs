{
 "cells": [
  {
   "cell_type": "code",
   "execution_count": 1,
   "metadata": {},
   "outputs": [],
   "source": [
    "import numpy as np"
   ]
  },
  {
   "cell_type": "code",
   "execution_count": 2,
   "metadata": {},
   "outputs": [],
   "source": [
    "x = np.array([np.arange(7),np.arange(7),np.arange(7)])"
   ]
  },
  {
   "cell_type": "code",
   "execution_count": 3,
   "metadata": {},
   "outputs": [
    {
     "data": {
      "text/plain": [
       "array([[0, 1, 2, 3, 4, 5, 6],\n",
       "       [0, 1, 2, 3, 4, 5, 6],\n",
       "       [0, 1, 2, 3, 4, 5, 6]])"
      ]
     },
     "execution_count": 3,
     "metadata": {},
     "output_type": "execute_result"
    }
   ],
   "source": [
    "x"
   ]
  },
  {
   "cell_type": "code",
   "execution_count": 4,
   "metadata": {},
   "outputs": [],
   "source": [
    "x=np.arange(3,4)"
   ]
  },
  {
   "cell_type": "code",
   "execution_count": 5,
   "metadata": {},
   "outputs": [
    {
     "data": {
      "text/plain": [
       "array([3])"
      ]
     },
     "execution_count": 5,
     "metadata": {},
     "output_type": "execute_result"
    }
   ],
   "source": [
    "x"
   ]
  },
  {
   "cell_type": "code",
   "execution_count": 8,
   "metadata": {},
   "outputs": [],
   "source": [
    "x=np.arange(1,7).reshape(2,3) #\n",
    "# numbers goes 1 to 7.  reshape (colluns, rows)"
   ]
  },
  {
   "cell_type": "code",
   "execution_count": 9,
   "metadata": {},
   "outputs": [
    {
     "data": {
      "text/plain": [
       "array([[1, 2, 3],\n",
       "       [4, 5, 6]])"
      ]
     },
     "execution_count": 9,
     "metadata": {},
     "output_type": "execute_result"
    }
   ],
   "source": [
    "x"
   ]
  },
  {
   "cell_type": "code",
   "execution_count": 14,
   "metadata": {},
   "outputs": [],
   "source": [
    "s =np.arange(0,70).reshape(7,10) # two dimentional array\n"
   ]
  },
  {
   "cell_type": "code",
   "execution_count": 15,
   "metadata": {},
   "outputs": [
    {
     "data": {
      "text/plain": [
       "array([[ 0,  1,  2,  3,  4,  5,  6,  7,  8,  9],\n",
       "       [10, 11, 12, 13, 14, 15, 16, 17, 18, 19],\n",
       "       [20, 21, 22, 23, 24, 25, 26, 27, 28, 29],\n",
       "       [30, 31, 32, 33, 34, 35, 36, 37, 38, 39],\n",
       "       [40, 41, 42, 43, 44, 45, 46, 47, 48, 49],\n",
       "       [50, 51, 52, 53, 54, 55, 56, 57, 58, 59],\n",
       "       [60, 61, 62, 63, 64, 65, 66, 67, 68, 69]])"
      ]
     },
     "execution_count": 15,
     "metadata": {},
     "output_type": "execute_result"
    }
   ],
   "source": [
    "s"
   ]
  },
  {
   "cell_type": "code",
   "execution_count": 18,
   "metadata": {},
   "outputs": [],
   "source": [
    "s =np.arange(0,24).reshape(2,3,4) # three dimential array"
   ]
  },
  {
   "cell_type": "code",
   "execution_count": 17,
   "metadata": {},
   "outputs": [
    {
     "data": {
      "text/plain": [
       "array([[[   0,    1,    2, ...,   16,   17,   18],\n",
       "        [  19,   20,   21, ...,   35,   36,   37],\n",
       "        [  38,   39,   40, ...,   54,   55,   56],\n",
       "        ...,\n",
       "        [ 133,  134,  135, ...,  149,  150,  151],\n",
       "        [ 152,  153,  154, ...,  168,  169,  170],\n",
       "        [ 171,  172,  173, ...,  187,  188,  189]],\n",
       "\n",
       "       [[ 190,  191,  192, ...,  206,  207,  208],\n",
       "        [ 209,  210,  211, ...,  225,  226,  227],\n",
       "        [ 228,  229,  230, ...,  244,  245,  246],\n",
       "        ...,\n",
       "        [ 323,  324,  325, ...,  339,  340,  341],\n",
       "        [ 342,  343,  344, ...,  358,  359,  360],\n",
       "        [ 361,  362,  363, ...,  377,  378,  379]],\n",
       "\n",
       "       [[ 380,  381,  382, ...,  396,  397,  398],\n",
       "        [ 399,  400,  401, ...,  415,  416,  417],\n",
       "        [ 418,  419,  420, ...,  434,  435,  436],\n",
       "        ...,\n",
       "        [ 513,  514,  515, ...,  529,  530,  531],\n",
       "        [ 532,  533,  534, ...,  548,  549,  550],\n",
       "        [ 551,  552,  553, ...,  567,  568,  569]],\n",
       "\n",
       "       ...,\n",
       "\n",
       "       [[ 760,  761,  762, ...,  776,  777,  778],\n",
       "        [ 779,  780,  781, ...,  795,  796,  797],\n",
       "        [ 798,  799,  800, ...,  814,  815,  816],\n",
       "        ...,\n",
       "        [ 893,  894,  895, ...,  909,  910,  911],\n",
       "        [ 912,  913,  914, ...,  928,  929,  930],\n",
       "        [ 931,  932,  933, ...,  947,  948,  949]],\n",
       "\n",
       "       [[ 950,  951,  952, ...,  966,  967,  968],\n",
       "        [ 969,  970,  971, ...,  985,  986,  987],\n",
       "        [ 988,  989,  990, ..., 1004, 1005, 1006],\n",
       "        ...,\n",
       "        [1083, 1084, 1085, ..., 1099, 1100, 1101],\n",
       "        [1102, 1103, 1104, ..., 1118, 1119, 1120],\n",
       "        [1121, 1122, 1123, ..., 1137, 1138, 1139]],\n",
       "\n",
       "       [[1140, 1141, 1142, ..., 1156, 1157, 1158],\n",
       "        [1159, 1160, 1161, ..., 1175, 1176, 1177],\n",
       "        [1178, 1179, 1180, ..., 1194, 1195, 1196],\n",
       "        ...,\n",
       "        [1273, 1274, 1275, ..., 1289, 1290, 1291],\n",
       "        [1292, 1293, 1294, ..., 1308, 1309, 1310],\n",
       "        [1311, 1312, 1313, ..., 1327, 1328, 1329]]])"
      ]
     },
     "execution_count": 17,
     "metadata": {},
     "output_type": "execute_result"
    }
   ],
   "source": [
    "s"
   ]
  },
  {
   "cell_type": "code",
   "execution_count": 3,
   "metadata": {},
   "outputs": [],
   "source": [
    "s =np.arange(0,24).reshape(2,3,4) # three dimential array\n"
   ]
  },
  {
   "cell_type": "code",
   "execution_count": 4,
   "metadata": {},
   "outputs": [
    {
     "data": {
      "text/plain": [
       "array([[[ 0,  1,  2,  3],\n",
       "        [ 4,  5,  6,  7],\n",
       "        [ 8,  9, 10, 11]],\n",
       "\n",
       "       [[12, 13, 14, 15],\n",
       "        [16, 17, 18, 19],\n",
       "        [20, 21, 22, 23]]])"
      ]
     },
     "execution_count": 4,
     "metadata": {},
     "output_type": "execute_result"
    }
   ],
   "source": [
    "s"
   ]
  },
  {
   "cell_type": "code",
   "execution_count": 9,
   "metadata": {},
   "outputs": [
    {
     "data": {
      "text/plain": [
       "array([[[14]]])"
      ]
     },
     "execution_count": 9,
     "metadata": {},
     "output_type": "execute_result"
    }
   ],
   "source": [
    "s[1:,0:1,2:3] ## access the 14 in the array\n",
    " # first array : , 0collum : 1 collum , 2 row : 3 row"
   ]
  },
  {
   "cell_type": "code",
   "execution_count": 14,
   "metadata": {},
   "outputs": [
    {
     "ename": "SyntaxError",
     "evalue": "invalid syntax (<ipython-input-14-6ef9ebcf86b4>, line 1)",
     "output_type": "error",
     "traceback": [
      "\u001b[1;36m  File \u001b[1;32m\"<ipython-input-14-6ef9ebcf86b4>\"\u001b[1;36m, line \u001b[1;32m1\u001b[0m\n\u001b[1;33m    [list(s[1:,0:1,:]) x for x in range(len(list(s[1:,0:1,:])) if x%2==0]\u001b[0m\n\u001b[1;37m                       ^\u001b[0m\n\u001b[1;31mSyntaxError\u001b[0m\u001b[1;31m:\u001b[0m invalid syntax\n"
     ]
    }
   ],
   "source": [
    "[list(s[1:,0:1,:]) x for x in range(len(list(s[1:,0:1,:])) if x%2==0]"
   ]
  },
  {
   "cell_type": "code",
   "execution_count": 15,
   "metadata": {},
   "outputs": [
    {
     "data": {
      "text/plain": [
       "[0, 2, 4]"
      ]
     },
     "execution_count": 15,
     "metadata": {},
     "output_type": "execute_result"
    }
   ],
   "source": [
    "[x for x in range(5) if x%2==0]"
   ]
  },
  {
   "cell_type": "code",
   "execution_count": 16,
   "metadata": {},
   "outputs": [
    {
     "ename": "SyntaxError",
     "evalue": "invalid syntax (<ipython-input-16-420e23e55670>, line 1)",
     "output_type": "error",
     "traceback": [
      "\u001b[1;36m  File \u001b[1;32m\"<ipython-input-16-420e23e55670>\"\u001b[1;36m, line \u001b[1;32m1\u001b[0m\n\u001b[1;33m    [(x,y,z) for x in range(len(s) y for y in range(len(s[x]) z for z in range(len(s[x][y])))) ]\u001b[0m\n\u001b[1;37m                                   ^\u001b[0m\n\u001b[1;31mSyntaxError\u001b[0m\u001b[1;31m:\u001b[0m invalid syntax\n"
     ]
    }
   ],
   "source": [
    "[(x,y,z) for x in range(len(s) (y for y in range(len(s[x]) z for z in range(len(s[x][y])))) ]"
   ]
  },
  {
   "cell_type": "code",
   "execution_count": null,
   "metadata": {},
   "outputs": [],
   "source": []
  }
 ],
 "metadata": {
  "kernelspec": {
   "display_name": "Python 3",
   "language": "python",
   "name": "python3"
  },
  "language_info": {
   "codemirror_mode": {
    "name": "ipython",
    "version": 3
   },
   "file_extension": ".py",
   "mimetype": "text/x-python",
   "name": "python",
   "nbconvert_exporter": "python",
   "pygments_lexer": "ipython3",
   "version": "3.6.5"
  }
 },
 "nbformat": 4,
 "nbformat_minor": 2
}
